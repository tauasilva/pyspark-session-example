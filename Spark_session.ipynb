{
 "cells": [
  {
   "cell_type": "code",
   "execution_count": 1,
   "metadata": {},
   "outputs": [],
   "source": [
    "import os"
   ]
  },
  {
   "cell_type": "markdown",
   "metadata": {},
   "source": [
    "# Prepara ambiente"
   ]
  },
  {
   "cell_type": "markdown",
   "metadata": {},
   "source": [
    "### Para este teste estou usando a versão spark-3.1.2-bin-hadoop3.2"
   ]
  },
  {
   "cell_type": "code",
   "execution_count": 2,
   "metadata": {},
   "outputs": [],
   "source": [
    "os.environ['SPARK_HOME'] = '/c/spark-3.1.2-bin-hadoop3.2'"
   ]
  },
  {
   "cell_type": "markdown",
   "metadata": {},
   "source": [
    "### instala o pydeequ "
   ]
  },
  {
   "cell_type": "markdown",
   "metadata": {},
   "source": [
    "https://github.com/awslabs/python-deequ"
   ]
  },
  {
   "cell_type": "code",
   "execution_count": 4,
   "metadata": {},
   "outputs": [
    {
     "name": "stdout",
     "output_type": "stream",
     "text": [
      "Requirement already satisfied: pydeequ in /home/taua/anaconda3/envs/aws_emr_deploy379/lib/python3.7/site-packages (1.0.1)\n",
      "Requirement already satisfied: numpy>=1.14.1 in /home/taua/anaconda3/envs/aws_emr_deploy379/lib/python3.7/site-packages (from pydeequ) (1.21.4)\n",
      "Requirement already satisfied: pandas>=0.23.0 in /home/taua/anaconda3/envs/aws_emr_deploy379/lib/python3.7/site-packages (from pydeequ) (1.3.4)\n",
      "Requirement already satisfied: python-dateutil>=2.7.3 in /home/taua/anaconda3/envs/aws_emr_deploy379/lib/python3.7/site-packages (from pandas>=0.23.0->pydeequ) (2.8.2)\n",
      "Requirement already satisfied: pytz>=2017.3 in /home/taua/anaconda3/envs/aws_emr_deploy379/lib/python3.7/site-packages (from pandas>=0.23.0->pydeequ) (2021.3)\n",
      "Requirement already satisfied: six>=1.5 in /home/taua/anaconda3/envs/aws_emr_deploy379/lib/python3.7/site-packages (from python-dateutil>=2.7.3->pandas>=0.23.0->pydeequ) (1.16.0)\n",
      "Requirement already satisfied: pyspark in /home/taua/anaconda3/envs/aws_emr_deploy379/lib/python3.7/site-packages (3.1.1)\n",
      "Requirement already satisfied: py4j==0.10.9 in /home/taua/anaconda3/envs/aws_emr_deploy379/lib/python3.7/site-packages (from pyspark) (0.10.9)\n"
     ]
    }
   ],
   "source": [
    "!pip install pyspark"
   ]
  },
  {
   "cell_type": "code",
   "execution_count": 3,
   "metadata": {},
   "outputs": [
    {
     "name": "stderr",
     "output_type": "stream",
     "text": [
      "22/01/06 16:58:07 WARN Utils: Your hostname, DBC-0001023 resolves to a loopback address: 127.0.1.1; using 172.18.208.1 instead (on interface eth3)\n",
      "22/01/06 16:58:07 WARN Utils: Set SPARK_LOCAL_IP if you need to bind to another address\n",
      "WARNING: An illegal reflective access operation has occurred\n",
      "WARNING: Illegal reflective access by org.apache.spark.unsafe.Platform (file:/c/spark-3.1.2-bin-hadoop3.2/jars/spark-unsafe_2.12-3.1.2.jar) to constructor java.nio.DirectByteBuffer(long,int)\n",
      "WARNING: Please consider reporting this to the maintainers of org.apache.spark.unsafe.Platform\n",
      "WARNING: Use --illegal-access=warn to enable warnings of further illegal reflective access operations\n",
      "WARNING: All illegal access operations will be denied in a future release\n",
      "22/01/06 16:58:08 WARN NativeCodeLoader: Unable to load native-hadoop library for your platform... using builtin-java classes where applicable\n",
      "Setting default log level to \"WARN\".\n",
      "To adjust logging level use sc.setLogLevel(newLevel). For SparkR, use setLogLevel(newLevel).\n"
     ]
    }
   ],
   "source": [
    "from pyspark.sql import SparkSession, Row\n",
    "spark = (SparkSession\n",
    "            .builder\n",
    "            .getOrCreate())"
   ]
  },
  {
   "cell_type": "markdown",
   "metadata": {},
   "source": [
    "### Executando um teste para verificar se a sessão spark esta correta"
   ]
  },
  {
   "cell_type": "code",
   "execution_count": 4,
   "metadata": {},
   "outputs": [
    {
     "name": "stderr",
     "output_type": "stream",
     "text": [
      "                                                                                \r"
     ]
    },
    {
     "data": {
      "text/html": [
       "<div>\n",
       "<style scoped>\n",
       "    .dataframe tbody tr th:only-of-type {\n",
       "        vertical-align: middle;\n",
       "    }\n",
       "\n",
       "    .dataframe tbody tr th {\n",
       "        vertical-align: top;\n",
       "    }\n",
       "\n",
       "    .dataframe thead th {\n",
       "        text-align: right;\n",
       "    }\n",
       "</style>\n",
       "<table border=\"1\" class=\"dataframe\">\n",
       "  <thead>\n",
       "    <tr style=\"text-align: right;\">\n",
       "      <th></th>\n",
       "      <th>coluna1</th>\n",
       "      <th>valor</th>\n",
       "      <th>quantidade</th>\n",
       "    </tr>\n",
       "  </thead>\n",
       "  <tbody>\n",
       "    <tr>\n",
       "      <th>0</th>\n",
       "      <td>Banana</td>\n",
       "      <td>1.50</td>\n",
       "      <td>5.0</td>\n",
       "    </tr>\n",
       "    <tr>\n",
       "      <th>1</th>\n",
       "      <td>Maça</td>\n",
       "      <td>1.85</td>\n",
       "      <td>6.0</td>\n",
       "    </tr>\n",
       "    <tr>\n",
       "      <th>2</th>\n",
       "      <td>Laranja</td>\n",
       "      <td>3.00</td>\n",
       "      <td>NaN</td>\n",
       "    </tr>\n",
       "  </tbody>\n",
       "</table>\n",
       "</div>"
      ],
      "text/plain": [
       "   coluna1  valor  quantidade\n",
       "0   Banana   1.50         5.0\n",
       "1     Maça   1.85         6.0\n",
       "2  Laranja   3.00         NaN"
      ]
     },
     "execution_count": 4,
     "metadata": {},
     "output_type": "execute_result"
    }
   ],
   "source": [
    "df_test = spark.sparkContext.parallelize([\n",
    "    Row(coluna1=\"Banana\",  valor=1.50, quantidade=5),\n",
    "    Row(coluna1=\"Maça\",    valor=1.85, quantidade=6),\n",
    "    Row(coluna1=\"Laranja\", valor=3.00, quantidade=None)]).toDF()\n",
    "\n",
    "\n",
    "df_test.toPandas()"
   ]
  },
  {
   "cell_type": "markdown",
   "metadata": {},
   "source": [
    "### Agora que sabemos que nossa sessão spark esta correta, vamos importar um fonte de dados e criar nosso dataframe"
   ]
  },
  {
   "cell_type": "markdown",
   "metadata": {},
   "source": [
    "## Importando dados "
   ]
  },
  {
   "cell_type": "markdown",
   "metadata": {},
   "source": [
    "Para este exemplo vou utilizar um parte dos dados de empresas brasileiras.\n",
    "Estes dados são disponibilizados em .zip pelo governo federal\n",
    "\n",
    "https://www.gov.br/receitafederal/pt-br/assuntos/orientacao-tributaria/cadastros/consultas/dados-publicos-cnpj\n",
    "\n",
    "São vários zips, para facilitar salver um dos arquivos sem ./fonte_de_dados"
   ]
  },
  {
   "cell_type": "code",
   "execution_count": 7,
   "metadata": {},
   "outputs": [],
   "source": [
    "from pyspark.sql.types import StructType,StructField, StringType\n",
    "\n",
    "schema = StructType([ \\\n",
    "    StructField(\"cnpj_basico\",StringType(),True), \\\n",
    "    StructField(\"razao_social\",StringType(),True), \\\n",
    "    StructField(\"natureza_juridica\",StringType(),True), \\\n",
    "    StructField(\"qualificacao_do_responsavel\", StringType(), True), \\\n",
    "    StructField(\"capital_social\", StringType(), True), \\\n",
    "    StructField(\"porte_da_empresa\", StringType(), True),\n",
    "    StructField(\"ente_federativo_responsavel\", StringType(), True),\n",
    "  ])\n",
    "\n",
    "\n",
    "#detalhes sobre o layout em https://www.gov.br/receitafederal/pt-br/assuntos/orientacao-tributaria/cadastros/consultas/arquivos/novolayoutdosdadosabertosdocnpj-dez2021.pdf"
   ]
  },
  {
   "cell_type": "code",
   "execution_count": 8,
   "metadata": {},
   "outputs": [
    {
     "name": "stderr",
     "output_type": "stream",
     "text": []
    },
    {
     "name": "stdout",
     "output_type": "stream",
     "text": [
      "+---------------------+--------------------+--------------------+---------------------------+--------------+----------------+---------------------------+\n",
      "|          cnpj_basico|        razao_social|   natureza_juridica|qualificacao_do_responsavel|capital_social|porte_da_empresa|ente_federativo_responsavel|\n",
      "+---------------------+--------------------+--------------------+---------------------------+--------------+----------------+---------------------------+\n",
      "| PK\u0003\u0004\u0014\u0000\u0000\u0000�z\u0010SmU�...|                null|                null|                       null|          null|            null|                       null|\n",
      "| \u0017����Mr�|�\u0000\u0017H�\u0005x�...|                null|                null|                       null|          null|            null|                       null|\n",
      "| ,y+3��:\u001f:�\u0014��4��\u0006...|                null|                null|                       null|          null|            null|                       null|\n",
      "| ?��\u0012�U�f�m�`Ɏ�tX�...|                null|                null|                       null|          null|            null|                       null|\n",
      "|    \u0002�A�c��\u001b�r\u0016|�6\t\u001ex|                null|                null|                       null|          null|            null|                       null|\n",
      "| �����\u0017,J��op<hx�>...|                null|                null|                       null|          null|            null|                       null|\n",
      "| hۚ�8\u000b\u001a\\���\u0014�e1\tzy...|                null|                null|                       null|          null|            null|                       null|\n",
      "|                 g\u0005�D|[�bU[�\u001ei�\u000e�y\u001e$�O\u0014...|                null|                       null|          null|            null|                       null|\n",
      "| k�y�@.O2Ë\f��&���>...|                null|                null|                       null|          null|            null|                       null|\n",
      "| �I\"����\f�I\u001e�'��\u0016&...|��<��Fg�mQ��f���g...|                   k|                       null|          null|            null|                       null|\n",
      "|                  ���|                null|                null|                       null|          null|            null|                       null|\n",
      "|�j���鮒�c|�����\u0007�2...|                null|                null|                       null|          null|            null|                       null|\n",
      "| �!�:YO�N\u0010��.\u0011%\u0019=ϸ...|�(���\u0016�1>��N���I...||z�rA)�bﶤ�yE�\u0005��I...|                       null|          null|            null|                       null|\n",
      "| q�k���x�v���-��0\u0018...|                null|                null|                       null|          null|            null|                       null|\n",
      "| ���%�>���r�F&��E�...|                null|                null|                       null|          null|            null|                       null|\n",
      "|   �����~��>\u0010wwt�x\u0010F�|                null|                null|                       null|          null|            null|                       null|\n",
      "| ��:����S��q��\u000e�}P...|\u0000�tv���ͻ�-��g�©�d...|l�!��z\u0000�UK�W�v\u0004�...|                       null|          null|            null|                       null|\n",
      "| \u0018��A�M.IӮ/��_\u001d\u001d��...|                null|                null|                       null|          null|            null|                       null|\n",
      "| 8�5\u001b0��1>�Ǐ��+�ޓ�...|                null|                null|                       null|          null|            null|                       null|\n",
      "| o�4h`�\\�\u0002\u000e߷t��@�...|U �Z��F�\u000eA6X�N`��...|                null|                       null|          null|            null|                       null|\n",
      "+---------------------+--------------------+--------------------+---------------------------+--------------+----------------+---------------------------+\n",
      "only showing top 20 rows\n",
      "\n"
     ]
    },
    {
     "name": "stderr",
     "output_type": "stream",
     "text": []
    }
   ],
   "source": [
    "df_dados_de_empresa = spark.read.csv('./fonte_de_dados/',sep=';',schema=schema)\n",
    "df_dados_de_empresa.show()\n"
   ]
  },
  {
   "cell_type": "markdown",
   "metadata": {},
   "source": [
    "### Analisando o dataframe"
   ]
  },
  {
   "cell_type": "code",
   "execution_count": 9,
   "metadata": {},
   "outputs": [
    {
     "name": "stderr",
     "output_type": "stream",
     "text": []
    },
    {
     "name": "stdout",
     "output_type": "stream",
     "text": [
      "+-------+--------------------+--------------------+--------------------+---------------------------+--------------------+--------------------+---------------------------+\n",
      "|summary|         cnpj_basico|        razao_social|   natureza_juridica|qualificacao_do_responsavel|      capital_social|    porte_da_empresa|ente_federativo_responsavel|\n",
      "+-------+--------------------+--------------------+--------------------+---------------------------+--------------------+--------------------+---------------------------+\n",
      "|  count|              530545|              185662|               65729|                      23732|                8604|                3164|                       1164|\n",
      "|   mean|           21881.425|   5.261654135338346|   6.571428571428571|          7.769230769230769|   5.888888888888889|                 8.0|                        9.0|\n",
      "| stddev|   391311.5359487437|   8.003453059740613|    9.33143237944212|         10.017932638971695|   2.666666666666667|  1.4142135623730951|                       null|\n",
      "|    min|                   \u0000|                   \u0000|                   \u0000|                          \u0000|                   \u0000|\u0000(dFY\u0005R!f\u0003��g�l(]...|       \u0000B�\u0018}��*�A7k��xQ|...|\n",
      "|    max|􏄢\u001eS�R¦\u0010\f�H�\f\u0017�\u001e:...|􌵡��I�\u0016U\u000b+��ùr|6W\u0000�|󺈞�����V6��Y9�\u001cD2...|       􍨽\u0015`���D��d�X7A-\u0013...|􏾙�+�\u0007�1\u0006�\".?�/q\u0013...|񓢛�I���~ �\u0012t�6m��...|       �������\u001a��\u001b��in�,...|\n",
      "+-------+--------------------+--------------------+--------------------+---------------------------+--------------------+--------------------+---------------------------+\n",
      "\n"
     ]
    }
   ],
   "source": [
    "df_dados_de_empresa.describe().show()"
   ]
  },
  {
   "cell_type": "markdown",
   "metadata": {},
   "source": [
    "#### Vamos criar uma função para validar o CNPJ"
   ]
  },
  {
   "cell_type": "code",
   "execution_count": 10,
   "metadata": {},
   "outputs": [],
   "source": [
    "from itertools import cycle\n",
    "\n",
    "LENGTH_CNPJ = 14\n",
    "\n",
    "def is_cnpj_valido(cnpj: str) -> bool:\n",
    "    if len(cnpj) != LENGTH_CNPJ:\n",
    "        return False\n",
    "\n",
    "    if cnpj in (c * LENGTH_CNPJ for c in \"1234567890\"):\n",
    "        return False\n",
    "\n",
    "    cnpj_r = cnpj[::-1]\n",
    "    for i in range(2, 0, -1):\n",
    "        cnpj_enum = zip(cycle(range(2, 10)), cnpj_r[i:])\n",
    "        dv = sum(map(lambda x: int(x[1]) * x[0], cnpj_enum)) * 10 % 11\n",
    "        if cnpj_r[i - 1:i] != str(dv % 10):\n",
    "            return False\n",
    "\n",
    "    return True"
   ]
  },
  {
   "cell_type": "markdown",
   "metadata": {},
   "source": [
    "#### Agora vamos criar uma nova coluna que vai receber o resultado da validação do CNPJ"
   ]
  },
  {
   "cell_type": "code",
   "execution_count": 11,
   "metadata": {},
   "outputs": [],
   "source": [
    "from pyspark.sql.functions import col, lit\n",
    "from pyspark.sql.functions import udf\n",
    "\n",
    "is_cnpj_valido_lambda = udf(lambda x: is_cnpj_valido(x), StringType())\n",
    "df_dados_de_empresa = df_dados_de_empresa.withColumn(\"cnpj_valido\",is_cnpj_valido_lambda(col('cnpj_basico')))"
   ]
  }
 ],
 "metadata": {
  "kernelspec": {
   "display_name": "Python 3",
   "language": "python",
   "name": "python3"
  },
  "language_info": {
   "codemirror_mode": {
    "name": "ipython",
    "version": 3
   },
   "file_extension": ".py",
   "mimetype": "text/x-python",
   "name": "python",
   "nbconvert_exporter": "python",
   "pygments_lexer": "ipython3",
   "version": "3.7.9"
  }
 },
 "nbformat": 4,
 "nbformat_minor": 4
}
